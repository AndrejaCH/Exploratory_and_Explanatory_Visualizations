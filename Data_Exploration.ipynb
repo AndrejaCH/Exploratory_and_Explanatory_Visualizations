{
 "cells": [
  {
   "cell_type": "markdown",
   "metadata": {},
   "source": [
    "# PISA Data Exploration\n",
    "### by Andreja Ho\n",
    "\n"
   ]
  },
  {
   "cell_type": "markdown",
   "metadata": {},
   "source": [
    "## Table of Contents\n",
    "- [Introduction](#intro)\n",
    "- [Preliminary Wrangling](#wrangling)\n",
    "- [Univariate Exploration](#univariate)\n",
    "- [Bivariate Exploration](#bivariate)\n",
    "- [Multivariate Exploration](#multivariate)\n",
    "- [Conclusion](#conclusion)"
   ]
  },
  {
   "cell_type": "markdown",
   "metadata": {},
   "source": [
    "<a id='intro'></a>\n",
    "## Introduction\n",
    "Add text"
   ]
  },
  {
   "cell_type": "markdown",
   "metadata": {},
   "source": [
    "<a id='wrangling'></a>\n",
    "## Preliminary Wrangling\n",
    "\n",
    "> Briefly introduce your dataset here.\n",
    "\n",
    "> This document explores a dataset containing PISA's 2012 data. PISA is a survey of students' skills and knowledge as they approach the end of compulsory education. It is not a conventional school test. Rather than examining how well students have learned the school curriculum, it looks at how well prepared they are for life beyond school. Around 510,000 students in 65 economies globally took part in the PISA 2012 assessment of reading, mathematics, and science representing about 28 million 15-year-olds globally."
   ]
  },
  {
   "cell_type": "code",
   "execution_count": 1,
   "metadata": {},
   "outputs": [],
   "source": [
    "# import all packages and set plots to be embedded inline\n",
    "import numpy as np\n",
    "import pandas as pd\n",
    "import matplotlib.pyplot as plt\n",
    "import seaborn as sb\n",
    "\n",
    "%matplotlib inline"
   ]
  },
  {
   "cell_type": "code",
   "execution_count": null,
   "metadata": {},
   "outputs": [],
   "source": [
    "# Read in original dataset and explore what features are most suitable for the analysis\n",
    "df_origin = pd.read_csv('pisa2012.csv',sep=',', encoding='latin-1',error_bad_lines=False, index_col=False, dtype='unicode')\n",
    "pd.set_option('display.max_columns', None)\n",
    "df_origin.head(3)"
   ]
  },
  {
   "cell_type": "code",
   "execution_count": null,
   "metadata": {},
   "outputs": [],
   "source": [
    "# Dataset shape\n",
    "df_origin.shape"
   ]
  },
  {
   "cell_type": "markdown",
   "metadata": {},
   "source": [
    "> Load in your dataset and describe its properties through the questions below.\n",
    "Try and motivate your exploration goals through this section.\n",
    "Here describe the whole dataset and steps what did you do to get a clean dataset.\n",
    "\n",
    "PISA 2012 dataset is very complex and the original dataset contains 485490 rows and 636 columns. For this analysis, I’ve chosen only a few columns of interest. To understand the variables (column headers), I used PISA’s data dictionary[link] and PISA’s codebook[link]. Both documents were necessary to choose variables of interest and how to properly interpret them. \n",
    "\n",
    "First, I looked through the dictionary to learn what data was gathered and define the idea of the interest. Next, I read through the codebook to decide what features or variables are best suited for the analysis. When I choose the columns of interest I used Excel `textjoin()` function in order to get all columns’ names in a list, separated with a comma and quotation marks.\n",
    " \n",
    "I am interested in how specific features impact students’ performance on math, reading, and science testing. The features if interests are:\n",
    "    - wealth,<br> \n",
    "    - cultural and home possessions,<br>\n",
    "    - educational resources<br>\n",
    "    - sense of belongings<br>\n",
    "    - parents’ and siblings’ presence<br>\n",
    "    - the educational level of parents<br><br>\n",
    "Besides those features, I will be analyzing if there is any difference between<br>\n",
    "    - gender<br>\n",
    "    - schools that joined OECD<br>\n",
    "    - country<br><br>\n",
    "Additionally, I would like to research if<br> \n",
    "    - mathematics anxiety<br>\n",
    "is correlated with performance in math and science.\n",
    "\n"
   ]
  },
  {
   "cell_type": "code",
   "execution_count": 2,
   "metadata": {},
   "outputs": [],
   "source": [
    "# Read in csv file:\n",
    "# - select only columns of interest (col_list)\n",
    "#           - to get all columns names in a list, separated with comma with quotation marks `textjoin()` function was used\n",
    "# - issues with readind the large csv:\n",
    "#           - this why code was used:pd.read_csv('pisa2012.csv',sep=',', encoding='latin-1',error_bad_lines=False, index_col=False, dtype='unicode')\n",
    "\n",
    "col_list = ['CNT','OECD','SCHOOLID','ST04Q01','ST09Q01','ST115Q01','ST11Q01','ST11Q02','ST11Q03','ST11Q04','ANXMAT','CULTPOS','FISCED','HEDRES','HOMEPOS','MISCED','WEALTH','ANCBELONG','PV1MATH','PV1READ','PV1SCIE']\n",
    "df_short = pd.read_csv('pisa2012.csv',sep=',', encoding='latin-1',error_bad_lines=False, index_col=False, dtype='unicode', usecols=col_list)"
   ]
  },
  {
   "cell_type": "code",
   "execution_count": 3,
   "metadata": {},
   "outputs": [
    {
     "data": {
      "text/html": [
       "<div>\n",
       "<style scoped>\n",
       "    .dataframe tbody tr th:only-of-type {\n",
       "        vertical-align: middle;\n",
       "    }\n",
       "\n",
       "    .dataframe tbody tr th {\n",
       "        vertical-align: top;\n",
       "    }\n",
       "\n",
       "    .dataframe thead th {\n",
       "        text-align: right;\n",
       "    }\n",
       "</style>\n",
       "<table border=\"1\" class=\"dataframe\">\n",
       "  <thead>\n",
       "    <tr style=\"text-align: right;\">\n",
       "      <th></th>\n",
       "      <th>CNT</th>\n",
       "      <th>OECD</th>\n",
       "      <th>SCHOOLID</th>\n",
       "      <th>ST04Q01</th>\n",
       "      <th>ST09Q01</th>\n",
       "      <th>ST115Q01</th>\n",
       "      <th>ST11Q01</th>\n",
       "      <th>ST11Q02</th>\n",
       "      <th>ST11Q03</th>\n",
       "      <th>ST11Q04</th>\n",
       "      <th>ANXMAT</th>\n",
       "      <th>CULTPOS</th>\n",
       "      <th>FISCED</th>\n",
       "      <th>HEDRES</th>\n",
       "      <th>HOMEPOS</th>\n",
       "      <th>MISCED</th>\n",
       "      <th>WEALTH</th>\n",
       "      <th>ANCBELONG</th>\n",
       "      <th>PV1MATH</th>\n",
       "      <th>PV1READ</th>\n",
       "      <th>PV1SCIE</th>\n",
       "    </tr>\n",
       "  </thead>\n",
       "  <tbody>\n",
       "    <tr>\n",
       "      <th>0</th>\n",
       "      <td>Albania</td>\n",
       "      <td>Non-OECD</td>\n",
       "      <td>0000001</td>\n",
       "      <td>Female</td>\n",
       "      <td>None</td>\n",
       "      <td>1</td>\n",
       "      <td>Yes</td>\n",
       "      <td>Yes</td>\n",
       "      <td>Yes</td>\n",
       "      <td>Yes</td>\n",
       "      <td>0.32</td>\n",
       "      <td>-0.48</td>\n",
       "      <td>ISCED 3A, ISCED 4</td>\n",
       "      <td>-1.29</td>\n",
       "      <td>-2.61</td>\n",
       "      <td>ISCED 3A, ISCED 4</td>\n",
       "      <td>-2.92</td>\n",
       "      <td>-0.7351</td>\n",
       "      <td>406.8469</td>\n",
       "      <td>249.5762</td>\n",
       "      <td>341.7009</td>\n",
       "    </tr>\n",
       "    <tr>\n",
       "      <th>1</th>\n",
       "      <td>Albania</td>\n",
       "      <td>Non-OECD</td>\n",
       "      <td>0000001</td>\n",
       "      <td>Female</td>\n",
       "      <td>None</td>\n",
       "      <td>1</td>\n",
       "      <td>Yes</td>\n",
       "      <td>Yes</td>\n",
       "      <td>NaN</td>\n",
       "      <td>Yes</td>\n",
       "      <td>NaN</td>\n",
       "      <td>1.27</td>\n",
       "      <td>ISCED 3A, ISCED 4</td>\n",
       "      <td>1.12</td>\n",
       "      <td>1.41</td>\n",
       "      <td>ISCED 5A, 6</td>\n",
       "      <td>0.69</td>\n",
       "      <td>NaN</td>\n",
       "      <td>486.1427</td>\n",
       "      <td>406.2936</td>\n",
       "      <td>548.9929</td>\n",
       "    </tr>\n",
       "    <tr>\n",
       "      <th>2</th>\n",
       "      <td>Albania</td>\n",
       "      <td>Non-OECD</td>\n",
       "      <td>0000001</td>\n",
       "      <td>Female</td>\n",
       "      <td>None</td>\n",
       "      <td>1</td>\n",
       "      <td>Yes</td>\n",
       "      <td>Yes</td>\n",
       "      <td>No</td>\n",
       "      <td>Yes</td>\n",
       "      <td>NaN</td>\n",
       "      <td>1.27</td>\n",
       "      <td>ISCED 5A, 6</td>\n",
       "      <td>-0.69</td>\n",
       "      <td>0.14</td>\n",
       "      <td>ISCED 5A, 6</td>\n",
       "      <td>-0.23</td>\n",
       "      <td>NaN</td>\n",
       "      <td>533.2684</td>\n",
       "      <td>401.21</td>\n",
       "      <td>499.6643</td>\n",
       "    </tr>\n",
       "    <tr>\n",
       "      <th>3</th>\n",
       "      <td>Albania</td>\n",
       "      <td>Non-OECD</td>\n",
       "      <td>0000001</td>\n",
       "      <td>Female</td>\n",
       "      <td>None</td>\n",
       "      <td>1</td>\n",
       "      <td>Yes</td>\n",
       "      <td>Yes</td>\n",
       "      <td>No</td>\n",
       "      <td>Yes</td>\n",
       "      <td>0.31</td>\n",
       "      <td>1.27</td>\n",
       "      <td>ISCED 5A, 6</td>\n",
       "      <td>0.04</td>\n",
       "      <td>-0.73</td>\n",
       "      <td>ISCED 3B, C</td>\n",
       "      <td>-1.17</td>\n",
       "      <td>NaN</td>\n",
       "      <td>412.2215</td>\n",
       "      <td>547.363</td>\n",
       "      <td>438.6796</td>\n",
       "    </tr>\n",
       "    <tr>\n",
       "      <th>4</th>\n",
       "      <td>Albania</td>\n",
       "      <td>Non-OECD</td>\n",
       "      <td>0000001</td>\n",
       "      <td>Female</td>\n",
       "      <td>None</td>\n",
       "      <td>2</td>\n",
       "      <td>Yes</td>\n",
       "      <td>Yes</td>\n",
       "      <td>Yes</td>\n",
       "      <td>NaN</td>\n",
       "      <td>1.02</td>\n",
       "      <td>1.27</td>\n",
       "      <td>ISCED 3A, ISCED 4</td>\n",
       "      <td>-0.69</td>\n",
       "      <td>-0.57</td>\n",
       "      <td>None</td>\n",
       "      <td>-1.17</td>\n",
       "      <td>0.8675</td>\n",
       "      <td>381.9209</td>\n",
       "      <td>311.7707</td>\n",
       "      <td>361.5628</td>\n",
       "    </tr>\n",
       "  </tbody>\n",
       "</table>\n",
       "</div>"
      ],
      "text/plain": [
       "       CNT      OECD SCHOOLID ST04Q01 ST09Q01 ST115Q01 ST11Q01 ST11Q02  \\\n",
       "0  Albania  Non-OECD  0000001  Female  None          1     Yes     Yes   \n",
       "1  Albania  Non-OECD  0000001  Female  None          1     Yes     Yes   \n",
       "2  Albania  Non-OECD  0000001  Female  None          1     Yes     Yes   \n",
       "3  Albania  Non-OECD  0000001  Female  None          1     Yes     Yes   \n",
       "4  Albania  Non-OECD  0000001  Female  None          2     Yes     Yes   \n",
       "\n",
       "  ST11Q03 ST11Q04 ANXMAT CULTPOS             FISCED HEDRES HOMEPOS  \\\n",
       "0     Yes     Yes   0.32   -0.48  ISCED 3A, ISCED 4  -1.29   -2.61   \n",
       "1     NaN     Yes    NaN    1.27  ISCED 3A, ISCED 4   1.12    1.41   \n",
       "2      No     Yes    NaN    1.27        ISCED 5A, 6  -0.69    0.14   \n",
       "3      No     Yes   0.31    1.27        ISCED 5A, 6   0.04   -0.73   \n",
       "4     Yes     NaN   1.02    1.27  ISCED 3A, ISCED 4  -0.69   -0.57   \n",
       "\n",
       "              MISCED WEALTH ANCBELONG   PV1MATH   PV1READ   PV1SCIE  \n",
       "0  ISCED 3A, ISCED 4  -2.92   -0.7351  406.8469  249.5762  341.7009  \n",
       "1        ISCED 5A, 6   0.69       NaN  486.1427  406.2936  548.9929  \n",
       "2        ISCED 5A, 6  -0.23       NaN  533.2684    401.21  499.6643  \n",
       "3        ISCED 3B, C  -1.17       NaN  412.2215   547.363  438.6796  \n",
       "4               None  -1.17    0.8675  381.9209  311.7707  361.5628  "
      ]
     },
     "execution_count": 3,
     "metadata": {},
     "output_type": "execute_result"
    }
   ],
   "source": [
    "# Display all columns for better view and display first five columns\n",
    "pd.set_option('display.max_columns', None)\n",
    "df_short.head(5)"
   ]
  },
  {
   "cell_type": "markdown",
   "metadata": {},
   "source": [
    "<a id='clean'></a>\n",
    "## Clean"
   ]
  },
  {
   "cell_type": "code",
   "execution_count": 4,
   "metadata": {},
   "outputs": [],
   "source": [
    "# Create a copy of original data sets\n",
    "df = df_short.copy()"
   ]
  },
  {
   "cell_type": "code",
   "execution_count": 5,
   "metadata": {},
   "outputs": [
    {
     "data": {
      "text/plain": [
       "(485490, 21)"
      ]
     },
     "execution_count": 5,
     "metadata": {},
     "output_type": "execute_result"
    }
   ],
   "source": [
    "# Check the shape\n",
    "df.shape"
   ]
  },
  {
   "cell_type": "code",
   "execution_count": 6,
   "metadata": {},
   "outputs": [],
   "source": [
    "# Rename colum names for better understanding\n",
    "# Columns were qiockly renamed with help of excel with `textjoin` and `concatenate` function\n",
    "df.rename(columns={'CNT':'Country_code', 'OECD':'OECD_country', 'SCHOOLID':'School_ID', 'ST04Q01':'Gender', 'ST09Q01':'Truancy_Skip_whole_school_day', 'ST115Q01':'Truancy_Skip_classes_within_school_day', 'ST11Q01':'At_Home_Mother', 'ST11Q02':'At_Home_Father', 'ST11Q03':'At_Home_Brothers', 'ST11Q04':'At_Home_Sisters', 'ANXMAT':'Mathematics_Anxiety', 'CULTPOS':'Cultural_Possessions', 'FISCED':'Educational_level_of_father_ISCED', 'HEDRES':'Home_educational_resources', 'HOMEPOS':'Home_Possessions', 'MISCED':'Educational_level_of_mother_ISCED', 'WEALTH':'Wealth', 'ANCBELONG':'Sense_of_Belonging_to_School_Anchored', 'PV1MATH':'Plausible_value_mathematics', 'PV1READ':'Plausible_value_reading', 'PV1SCIE':'Plausible_value_science'}, inplace=True)"
   ]
  },
  {
   "cell_type": "code",
   "execution_count": 7,
   "metadata": {},
   "outputs": [
    {
     "data": {
      "text/html": [
       "<div>\n",
       "<style scoped>\n",
       "    .dataframe tbody tr th:only-of-type {\n",
       "        vertical-align: middle;\n",
       "    }\n",
       "\n",
       "    .dataframe tbody tr th {\n",
       "        vertical-align: top;\n",
       "    }\n",
       "\n",
       "    .dataframe thead th {\n",
       "        text-align: right;\n",
       "    }\n",
       "</style>\n",
       "<table border=\"1\" class=\"dataframe\">\n",
       "  <thead>\n",
       "    <tr style=\"text-align: right;\">\n",
       "      <th></th>\n",
       "      <th>Country_code</th>\n",
       "      <th>OECD_country</th>\n",
       "      <th>School_ID</th>\n",
       "      <th>Gender</th>\n",
       "      <th>Truancy_Skip_whole_school_day</th>\n",
       "      <th>Truancy_Skip_classes_within_school_day</th>\n",
       "      <th>At_Home_Mother</th>\n",
       "      <th>At_Home_Father</th>\n",
       "      <th>At_Home_Brothers</th>\n",
       "      <th>At_Home_Sisters</th>\n",
       "      <th>Mathematics_Anxiety</th>\n",
       "      <th>Cultural_Possessions</th>\n",
       "      <th>Educational_level_of_father_ISCED</th>\n",
       "      <th>Home_educational_resources</th>\n",
       "      <th>Home_Possessions</th>\n",
       "      <th>Educational_level_of_mother_ISCED</th>\n",
       "      <th>Wealth</th>\n",
       "      <th>Sense_of_Belonging_to_School_Anchored</th>\n",
       "      <th>Plausible_value_mathematics</th>\n",
       "      <th>Plausible_value_reading</th>\n",
       "      <th>Plausible_value_science</th>\n",
       "    </tr>\n",
       "  </thead>\n",
       "  <tbody>\n",
       "    <tr>\n",
       "      <th>0</th>\n",
       "      <td>Albania</td>\n",
       "      <td>Non-OECD</td>\n",
       "      <td>0000001</td>\n",
       "      <td>Female</td>\n",
       "      <td>None</td>\n",
       "      <td>1</td>\n",
       "      <td>Yes</td>\n",
       "      <td>Yes</td>\n",
       "      <td>Yes</td>\n",
       "      <td>Yes</td>\n",
       "      <td>0.32</td>\n",
       "      <td>-0.48</td>\n",
       "      <td>ISCED 3A, ISCED 4</td>\n",
       "      <td>-1.29</td>\n",
       "      <td>-2.61</td>\n",
       "      <td>ISCED 3A, ISCED 4</td>\n",
       "      <td>-2.92</td>\n",
       "      <td>-0.7351</td>\n",
       "      <td>406.8469</td>\n",
       "      <td>249.5762</td>\n",
       "      <td>341.7009</td>\n",
       "    </tr>\n",
       "    <tr>\n",
       "      <th>1</th>\n",
       "      <td>Albania</td>\n",
       "      <td>Non-OECD</td>\n",
       "      <td>0000001</td>\n",
       "      <td>Female</td>\n",
       "      <td>None</td>\n",
       "      <td>1</td>\n",
       "      <td>Yes</td>\n",
       "      <td>Yes</td>\n",
       "      <td>NaN</td>\n",
       "      <td>Yes</td>\n",
       "      <td>NaN</td>\n",
       "      <td>1.27</td>\n",
       "      <td>ISCED 3A, ISCED 4</td>\n",
       "      <td>1.12</td>\n",
       "      <td>1.41</td>\n",
       "      <td>ISCED 5A, 6</td>\n",
       "      <td>0.69</td>\n",
       "      <td>NaN</td>\n",
       "      <td>486.1427</td>\n",
       "      <td>406.2936</td>\n",
       "      <td>548.9929</td>\n",
       "    </tr>\n",
       "    <tr>\n",
       "      <th>2</th>\n",
       "      <td>Albania</td>\n",
       "      <td>Non-OECD</td>\n",
       "      <td>0000001</td>\n",
       "      <td>Female</td>\n",
       "      <td>None</td>\n",
       "      <td>1</td>\n",
       "      <td>Yes</td>\n",
       "      <td>Yes</td>\n",
       "      <td>No</td>\n",
       "      <td>Yes</td>\n",
       "      <td>NaN</td>\n",
       "      <td>1.27</td>\n",
       "      <td>ISCED 5A, 6</td>\n",
       "      <td>-0.69</td>\n",
       "      <td>0.14</td>\n",
       "      <td>ISCED 5A, 6</td>\n",
       "      <td>-0.23</td>\n",
       "      <td>NaN</td>\n",
       "      <td>533.2684</td>\n",
       "      <td>401.21</td>\n",
       "      <td>499.6643</td>\n",
       "    </tr>\n",
       "  </tbody>\n",
       "</table>\n",
       "</div>"
      ],
      "text/plain": [
       "  Country_code OECD_country School_ID  Gender Truancy_Skip_whole_school_day  \\\n",
       "0      Albania     Non-OECD   0000001  Female                        None     \n",
       "1      Albania     Non-OECD   0000001  Female                        None     \n",
       "2      Albania     Non-OECD   0000001  Female                        None     \n",
       "\n",
       "  Truancy_Skip_classes_within_school_day At_Home_Mother At_Home_Father  \\\n",
       "0                                      1            Yes            Yes   \n",
       "1                                      1            Yes            Yes   \n",
       "2                                      1            Yes            Yes   \n",
       "\n",
       "  At_Home_Brothers At_Home_Sisters Mathematics_Anxiety Cultural_Possessions  \\\n",
       "0              Yes             Yes                0.32                -0.48   \n",
       "1              NaN             Yes                 NaN                 1.27   \n",
       "2               No             Yes                 NaN                 1.27   \n",
       "\n",
       "  Educational_level_of_father_ISCED Home_educational_resources  \\\n",
       "0                 ISCED 3A, ISCED 4                      -1.29   \n",
       "1                 ISCED 3A, ISCED 4                       1.12   \n",
       "2                       ISCED 5A, 6                      -0.69   \n",
       "\n",
       "  Home_Possessions Educational_level_of_mother_ISCED Wealth  \\\n",
       "0            -2.61                 ISCED 3A, ISCED 4  -2.92   \n",
       "1             1.41                       ISCED 5A, 6   0.69   \n",
       "2             0.14                       ISCED 5A, 6  -0.23   \n",
       "\n",
       "  Sense_of_Belonging_to_School_Anchored Plausible_value_mathematics  \\\n",
       "0                               -0.7351                    406.8469   \n",
       "1                                   NaN                    486.1427   \n",
       "2                                   NaN                    533.2684   \n",
       "\n",
       "  Plausible_value_reading Plausible_value_science  \n",
       "0                249.5762                341.7009  \n",
       "1                406.2936                548.9929  \n",
       "2                  401.21                499.6643  "
      ]
     },
     "execution_count": 7,
     "metadata": {},
     "output_type": "execute_result"
    }
   ],
   "source": [
    "# Check renamed columns\n",
    "df.head(3)"
   ]
  },
  {
   "cell_type": "code",
   "execution_count": 8,
   "metadata": {},
   "outputs": [
    {
     "name": "stdout",
     "output_type": "stream",
     "text": [
      "<class 'pandas.core.frame.DataFrame'>\n",
      "RangeIndex: 485490 entries, 0 to 485489\n",
      "Data columns (total 21 columns):\n",
      " #   Column                                  Non-Null Count   Dtype \n",
      "---  ------                                  --------------   ----- \n",
      " 0   Country_code                            485490 non-null  object\n",
      " 1   OECD_country                            485490 non-null  object\n",
      " 2   School_ID                               485490 non-null  object\n",
      " 3   Gender                                  485490 non-null  object\n",
      " 4   Truancy_Skip_whole_school_day           479131 non-null  object\n",
      " 5   Truancy_Skip_classes_within_school_day  479269 non-null  object\n",
      " 6   At_Home_Mother                          460559 non-null  object\n",
      " 7   At_Home_Father                          441036 non-null  object\n",
      " 8   At_Home_Brothers                        400076 non-null  object\n",
      " 9   At_Home_Sisters                         390768 non-null  object\n",
      " 10  Mathematics_Anxiety                     314764 non-null  object\n",
      " 11  Cultural_Possessions                    471357 non-null  object\n",
      " 12  Educational_level_of_father_ISCED       452903 non-null  object\n",
      " 13  Home_educational_resources              477772 non-null  object\n",
      " 14  Home_Possessions                        479807 non-null  object\n",
      " 15  Educational_level_of_mother_ISCED       467085 non-null  object\n",
      " 16  Wealth                                  479597 non-null  object\n",
      " 17  Sense_of_Belonging_to_School_Anchored   307640 non-null  object\n",
      " 18  Plausible_value_mathematics             485490 non-null  object\n",
      " 19  Plausible_value_reading                 485490 non-null  object\n",
      " 20  Plausible_value_science                 485490 non-null  object\n",
      "dtypes: object(21)\n",
      "memory usage: 77.8+ MB\n"
     ]
    }
   ],
   "source": [
    "df.info()"
   ]
  },
  {
   "cell_type": "markdown",
   "metadata": {},
   "source": [
    "Based on this [wikipedia](https://en.wikipedia.org/wiki/International_Standard_Classification_of_Education) site I have changed educational level of for better understanding:\n",
    "\n",
    "| Pisa 2012 | From Wikipedia - ISCED 2011 | encoding used in this dataset\n",
    "| :- | :- | :- |\n",
    "|ISCED 1           | Primary education | ISCED 1\n",
    "|ISCED 2           | Lower secondary education|  ISCED 2\n",
    "|ISCED 3B, C       | Upper secondary education  | ISCED 3\n",
    "|ISCED 3A, ISCED 4 | Post-secondary non-tertiary education   | ISCED 4\n",
    "|ISCED 5B          | Short-cycle tertiary education | ISCED 5\n",
    "|ISCED 5A, 6       | Bachelor's or equivalent  | ISCED 6\n",
    "|None| No data| No data"
   ]
  },
  {
   "cell_type": "code",
   "execution_count": 9,
   "metadata": {},
   "outputs": [
    {
     "data": {
      "text/plain": [
       "ISCED 3A, ISCED 4    118890\n",
       "ISCED 5A, 6          113406\n",
       "ISCED 2               66728\n",
       "ISCED 5B              61617\n",
       "ISCED 3B, C           39789\n",
       "ISCED 1               35938\n",
       "None                  16535\n",
       "Name: Educational_level_of_father_ISCED, dtype: int64"
      ]
     },
     "execution_count": 9,
     "metadata": {},
     "output_type": "execute_result"
    }
   ],
   "source": [
    "# Rename education level - father ()\n",
    "df.Educational_level_of_father_ISCED.value_counts()"
   ]
  },
  {
   "cell_type": "code",
   "execution_count": 10,
   "metadata": {},
   "outputs": [
    {
     "data": {
      "text/plain": [
       "ISCED 3A, ISCED 4    126768\n",
       "ISCED 5A, 6          114452\n",
       "ISCED 5B              68219\n",
       "ISCED 2               66650\n",
       "ISCED 1               36556\n",
       "ISCED 3B, C           35672\n",
       "None                  18768\n",
       "Name: Educational_level_of_mother_ISCED, dtype: int64"
      ]
     },
     "execution_count": 10,
     "metadata": {},
     "output_type": "execute_result"
    }
   ],
   "source": [
    "# Rename education level - mother ()\n",
    "df.Educational_level_of_mother_ISCED.value_counts()"
   ]
  },
  {
   "cell_type": "code",
   "execution_count": 11,
   "metadata": {},
   "outputs": [
    {
     "data": {
      "text/plain": [
       "None                     385998\n",
       "One or two times          75969\n",
       "Three or four times       10882\n",
       "Five or more times         6282\n",
       "Name: Truancy_Skip_whole_school_day, dtype: int64"
      ]
     },
     "execution_count": 11,
     "metadata": {},
     "output_type": "execute_result"
    }
   ],
   "source": [
    "# Rename Truancy_Skip_whole_school_day\n",
    "df.Truancy_Skip_whole_school_day.value_counts()"
   ]
  },
  {
   "cell_type": "code",
   "execution_count": 12,
   "metadata": {},
   "outputs": [],
   "source": [
    "# Replace educational values with with easy understand values (see comments for explanation)\n",
    "df[\"Educational_level_of_father_ISCED\"] \\\n",
    ".replace({\"ISCED 1\": \"ISCED 1\",\n",
    "          \"ISCED 2\": \"ISCED 2\",\n",
    "          \"ISCED 3B, C\" : \"ISCED 3\",\n",
    "          \"ISCED 3A, ISCED 4\": \"ISCED 4\",\n",
    "          \"ISCED 5B\": \"ISCED 5\",\n",
    "          \"ISCED 5A, 6\" :\"ISCED 6\",\n",
    "         \"None\" : \"No data\"}, inplace=True)"
   ]
  },
  {
   "cell_type": "code",
   "execution_count": 13,
   "metadata": {},
   "outputs": [],
   "source": [
    "# Replace educational values with easy understand values (see comments for explanation)\n",
    "df[\"Educational_level_of_mother_ISCED\"] \\\n",
    ".replace({\"ISCED 1\": \"ISCED 1\",\n",
    "          \"ISCED 2\": \"ISCED 2\",\n",
    "          \"ISCED 3B, C\" : \"ISCED 3\",\n",
    "          \"ISCED 3A, ISCED 4\": \"ISCED 4\",\n",
    "          \"ISCED 5B\": \"ISCED 5\",\n",
    "          \"ISCED 5A, 6\" :\"ISCED 6\",\n",
    "         \"None\" : \"No data\"}, inplace=True)"
   ]
  },
  {
   "cell_type": "code",
   "execution_count": 14,
   "metadata": {},
   "outputs": [],
   "source": [
    "# Replace Truancy_Skip_whole_school_day values with with easy understand values\n",
    "df[\"Truancy_Skip_whole_school_day\"] \\\n",
    ".replace({\"Five or more times\": \"5+ times\",\n",
    "          \"Three or four times\": \"3-4 times\",\n",
    "          \"One or two times\" : \"1-2 times\",\n",
    "          \"None\": \"0 times\"}, inplace=True)"
   ]
  },
  {
   "cell_type": "markdown",
   "metadata": {},
   "source": [
    "***Rename function doesn't work on df\"Truancy_Skip_whole_school_day\" column?? cannot convert to different text and cannot convert to categorical datatype?***"
   ]
  },
  {
   "cell_type": "code",
   "execution_count": 15,
   "metadata": {},
   "outputs": [
    {
     "data": {
      "text/plain": [
       "ISCED 4    126768\n",
       "ISCED 6    114452\n",
       "ISCED 5     68219\n",
       "ISCED 2     66650\n",
       "ISCED 1     36556\n",
       "ISCED 3     35672\n",
       "No data     18768\n",
       "Name: Educational_level_of_mother_ISCED, dtype: int64"
      ]
     },
     "execution_count": 15,
     "metadata": {},
     "output_type": "execute_result"
    }
   ],
   "source": [
    "# Check for correct transformation \n",
    "df.Educational_level_of_mother_ISCED.value_counts()"
   ]
  },
  {
   "cell_type": "code",
   "execution_count": 17,
   "metadata": {},
   "outputs": [
    {
     "data": {
      "text/plain": [
       "None                     385998\n",
       "One or two times          75969\n",
       "Three or four times       10882\n",
       "Five or more times         6282\n",
       "Name: Truancy_Skip_whole_school_day, dtype: int64"
      ]
     },
     "execution_count": 17,
     "metadata": {},
     "output_type": "execute_result"
    }
   ],
   "source": [
    "# Check for correct transformation - rename function didn't work??\n",
    "df.Truancy_Skip_whole_school_day.value_counts()"
   ]
  },
  {
   "cell_type": "code",
   "execution_count": 18,
   "metadata": {},
   "outputs": [
    {
     "data": {
      "text/plain": [
       "Vietnam                      4959\n",
       "Uruguay                      5315\n",
       "United States of America     4978\n",
       "United Kingdom              12659\n",
       "United Arab Emirates        11500\n",
       "Turkey                       4848\n",
       "Tunisia                      4407\n",
       "Thailand                     6606\n",
       "Switzerland                 11229\n",
       "Sweden                       4736\n",
       "Spain                       25313\n",
       "Slovenia                     5911\n",
       "Slovak Republic              4678\n",
       "Singapore                    5546\n",
       "Serbia                       4684\n",
       "Russian Federation           5231\n",
       "Romania                      5074\n",
       "Qatar                       10966\n",
       "Portugal                     5722\n",
       "Poland                       4607\n",
       "Peru                         6035\n",
       "Perm(Russian Federation)     1761\n",
       "Norway                       4686\n",
       "New Zealand                  4291\n",
       "Netherlands                  4460\n",
       "Montenegro                   4744\n",
       "Mexico                      33806\n",
       "Massachusetts (USA)          1723\n",
       "Malaysia                     5197\n",
       "Macao-China                  5335\n",
       "Luxembourg                   5258\n",
       "Lithuania                    4618\n",
       "Liechtenstein                 293\n",
       "Latvia                       4306\n",
       "Korea                        5033\n",
       "Kazakhstan                   5808\n",
       "Jordan                       7038\n",
       "Japan                        6351\n",
       "Italy                       31073\n",
       "Israel                       5055\n",
       "Ireland                      5016\n",
       "Indonesia                    5622\n",
       "Iceland                      3508\n",
       "Hungary                      4810\n",
       "Hong Kong-China              4670\n",
       "Greece                       5125\n",
       "Germany                      5001\n",
       "France                       4613\n",
       "Florida (USA)                1896\n",
       "Finland                      8829\n",
       "Estonia                      4779\n",
       "Denmark                      7481\n",
       "Czech Republic               5327\n",
       "Croatia                      5008\n",
       "Costa Rica                   4602\n",
       "Connecticut (USA)            1697\n",
       "Colombia                     9073\n",
       "Chinese Taipei               6046\n",
       "China-Shanghai               5177\n",
       "Chile                        6856\n",
       "Canada                      21544\n",
       "Bulgaria                     5282\n",
       "Brazil                      19204\n",
       "Belgium                      8597\n",
       "Austria                      4755\n",
       "Australia                   14481\n",
       "Argentina                    5908\n",
       "Albania                      4743\n",
       "Name: Country_code, dtype: int64"
      ]
     },
     "execution_count": 18,
     "metadata": {},
     "output_type": "execute_result"
    }
   ],
   "source": [
    "pd.set_option('display.max_rows', None)\n",
    "df.Country_code.value_counts().sort_index(ascending=False)"
   ]
  },
  {
   "cell_type": "code",
   "execution_count": 19,
   "metadata": {},
   "outputs": [],
   "source": [
    "# Combine names that have been broken down by states or cities with one unique name of the country\n",
    "df = df.replace(['Connecticut (USA)', 'Florida (USA)', 'Massachusetts (USA)', 'United States of America'], 'USA')\n",
    "df = df.replace(['Chinese Taipei'], 'Taiwan')\n",
    "df = df.replace(['China-Shanghai', 'Hong Kong-China', 'Macao-China'], 'China')\n",
    "df = df.replace(['Russian Federation', 'Perm(Russian Federation)'], 'Russia')"
   ]
  },
  {
   "cell_type": "code",
   "execution_count": 20,
   "metadata": {},
   "outputs": [],
   "source": [
    "# Check for the right transformation\n",
    "#df.Country_code.value_counts().sort_index(ascending=False)"
   ]
  },
  {
   "cell_type": "markdown",
   "metadata": {},
   "source": [
    "<a id='datatypes'></a>\n",
    "## Datatypes\n",
    "It is important to change datatypes into appropriate datatypes for several reasons\n",
    "- faster performance\n",
    "- lower usage of the memory\n",
    "- etc (add)"
   ]
  },
  {
   "cell_type": "code",
   "execution_count": 21,
   "metadata": {},
   "outputs": [
    {
     "name": "stdout",
     "output_type": "stream",
     "text": [
      "<class 'pandas.core.frame.DataFrame'>\n",
      "RangeIndex: 485490 entries, 0 to 485489\n",
      "Data columns (total 21 columns):\n",
      " #   Column                                  Non-Null Count   Dtype \n",
      "---  ------                                  --------------   ----- \n",
      " 0   Country_code                            485490 non-null  object\n",
      " 1   OECD_country                            485490 non-null  object\n",
      " 2   School_ID                               485490 non-null  object\n",
      " 3   Gender                                  485490 non-null  object\n",
      " 4   Truancy_Skip_whole_school_day           479131 non-null  object\n",
      " 5   Truancy_Skip_classes_within_school_day  479269 non-null  object\n",
      " 6   At_Home_Mother                          460559 non-null  object\n",
      " 7   At_Home_Father                          441036 non-null  object\n",
      " 8   At_Home_Brothers                        400076 non-null  object\n",
      " 9   At_Home_Sisters                         390768 non-null  object\n",
      " 10  Mathematics_Anxiety                     314764 non-null  object\n",
      " 11  Cultural_Possessions                    471357 non-null  object\n",
      " 12  Educational_level_of_father_ISCED       452903 non-null  object\n",
      " 13  Home_educational_resources              477772 non-null  object\n",
      " 14  Home_Possessions                        479807 non-null  object\n",
      " 15  Educational_level_of_mother_ISCED       467085 non-null  object\n",
      " 16  Wealth                                  479597 non-null  object\n",
      " 17  Sense_of_Belonging_to_School_Anchored   307640 non-null  object\n",
      " 18  Plausible_value_mathematics             485490 non-null  object\n",
      " 19  Plausible_value_reading                 485490 non-null  object\n",
      " 20  Plausible_value_science                 485490 non-null  object\n",
      "dtypes: object(21)\n",
      "memory usage: 77.8+ MB\n"
     ]
    }
   ],
   "source": [
    "# Check datatype and null values\n",
    "df.info()"
   ]
  },
  {
   "cell_type": "code",
   "execution_count": 22,
   "metadata": {},
   "outputs": [
    {
     "data": {
      "text/plain": [
       "Country_code                                   0\n",
       "OECD_country                                   0\n",
       "School_ID                                      0\n",
       "Gender                                         0\n",
       "Truancy_Skip_whole_school_day               6359\n",
       "Truancy_Skip_classes_within_school_day      6221\n",
       "At_Home_Mother                             24931\n",
       "At_Home_Father                             44454\n",
       "At_Home_Brothers                           85414\n",
       "At_Home_Sisters                            94722\n",
       "Mathematics_Anxiety                       170726\n",
       "Cultural_Possessions                       14133\n",
       "Educational_level_of_father_ISCED          32587\n",
       "Home_educational_resources                  7718\n",
       "Home_Possessions                            5683\n",
       "Educational_level_of_mother_ISCED          18405\n",
       "Wealth                                      5893\n",
       "Sense_of_Belonging_to_School_Anchored     177850\n",
       "Plausible_value_mathematics                    0\n",
       "Plausible_value_reading                        0\n",
       "Plausible_value_science                        0\n",
       "dtype: int64"
      ]
     },
     "execution_count": 22,
     "metadata": {},
     "output_type": "execute_result"
    }
   ],
   "source": [
    "df.isnull().sum()"
   ]
  },
  {
   "cell_type": "markdown",
   "metadata": {},
   "source": [
    "***Sense_of_Belonging_to_School_Anchored (177850) and  Mathematics_Anxiety (170726) has too many null values. For the this analysis purposes I have to drop null values (one of the reasons is to change datatype). For this reason I won't include these two features into my analysis.***"
   ]
  },
  {
   "cell_type": "code",
   "execution_count": 23,
   "metadata": {},
   "outputs": [],
   "source": [
    "# Drop columns Sense_of_Belonging_to_School_Anchored and Mathematics_Anxiety\n",
    "df.drop(['Sense_of_Belonging_to_School_Anchored', 'Mathematics_Anxiety'], axis=1, inplace=True)"
   ]
  },
  {
   "cell_type": "code",
   "execution_count": 24,
   "metadata": {},
   "outputs": [],
   "source": [
    "# Drop null values\n",
    "df.dropna(inplace=True)"
   ]
  },
  {
   "cell_type": "code",
   "execution_count": 25,
   "metadata": {},
   "outputs": [
    {
     "data": {
      "text/plain": [
       "(325497, 19)"
      ]
     },
     "execution_count": 25,
     "metadata": {},
     "output_type": "execute_result"
    }
   ],
   "source": [
    "df.shape"
   ]
  },
  {
   "cell_type": "code",
   "execution_count": 26,
   "metadata": {},
   "outputs": [],
   "source": [
    "# Change Educational_level_of_father_ISCED to categort datatype\n",
    "educational_classes = ['ISCED 1', 'ISCED 2', 'ISCED 3', 'ISCED 4', 'ISCED 5', 'ISCED 6', 'No data']\n",
    "vclasses = pd.api.types.CategoricalDtype(ordered = True, categories = educational_classes)\n",
    "df['Educational_level_of_father_ISCED'] = df['Educational_level_of_father_ISCED'].astype(vclasses)"
   ]
  },
  {
   "cell_type": "code",
   "execution_count": 27,
   "metadata": {},
   "outputs": [],
   "source": [
    "# Change Educational_level_of_father_ISCED to categort datatype\n",
    "educational_classes = ['ISCED 1', 'ISCED 2', 'ISCED 3', 'ISCED 4', 'ISCED 5', 'ISCED 6', 'No data']\n",
    "vclasses = pd.api.types.CategoricalDtype(ordered = True, categories = educational_classes)\n",
    "df['Educational_level_of_mother_ISCED'] = df['Educational_level_of_mother_ISCED'].astype(vclasses)"
   ]
  },
  {
   "cell_type": "code",
   "execution_count": null,
   "metadata": {},
   "outputs": [],
   "source": [
    "# # Change Truancy_Skip_whole_school_day to categort datatype\n",
    "# skip_school_day = ['None', '1-2 times', '3-4 times', '5+ times']\n",
    "# vclassess = pd.api.types.CategoricalDtype(ordered = True, categories = skip_school_day)\n",
    "# df['Truancy_Skip_whole_school_day'] = df['Truancy_Skip_whole_school_day'].astype(vclassess)"
   ]
  },
  {
   "cell_type": "markdown",
   "metadata": {},
   "source": [
    "***Cannot convert to categorical datatype??***"
   ]
  },
  {
   "cell_type": "code",
   "execution_count": 30,
   "metadata": {},
   "outputs": [],
   "source": [
    "# Change OECD_country to boolean\n",
    "oecd_country = {'OECD': True, 'Non-OECD': False}\n",
    "df[\"OECD_country\"].replace(oecd_country, inplace=True)"
   ]
  },
  {
   "cell_type": "code",
   "execution_count": 31,
   "metadata": {},
   "outputs": [],
   "source": [
    "# Chenge mother, father, brothers, sisters at home to boolean\n",
    "home = {'Yes': True, 'No': False}\n",
    "df[\"At_Home_Mother\"].replace(home, inplace=True)\n",
    "df[\"At_Home_Father\"].replace(home, inplace=True)\n",
    "df[\"At_Home_Brothers\"].replace(home, inplace=True)\n",
    "df[\"At_Home_Sisters\"].replace(home, inplace=True)"
   ]
  },
  {
   "cell_type": "code",
   "execution_count": 32,
   "metadata": {},
   "outputs": [],
   "source": [
    "# using dictionary to convert specific columns\n",
    "convert_dict = {'Truancy_Skip_classes_within_school_day': int,\n",
    "                'Cultural_Possessions' : float,\n",
    "                'Home_educational_resources': float,\n",
    "                'Home_Possessions': float,\n",
    "                'Wealth': float,\n",
    "                'Plausible_value_mathematics' : float,\n",
    "                'Plausible_value_reading': float,\n",
    "                'Plausible_value_science' : float,      \n",
    "               }\n",
    "  \n",
    "df = df.astype(convert_dict)"
   ]
  },
  {
   "cell_type": "code",
   "execution_count": 33,
   "metadata": {},
   "outputs": [
    {
     "name": "stdout",
     "output_type": "stream",
     "text": [
      "<class 'pandas.core.frame.DataFrame'>\n",
      "Int64Index: 325497 entries, 0 to 485489\n",
      "Data columns (total 19 columns):\n",
      " #   Column                                  Non-Null Count   Dtype   \n",
      "---  ------                                  --------------   -----   \n",
      " 0   Country_code                            325497 non-null  object  \n",
      " 1   OECD_country                            325497 non-null  bool    \n",
      " 2   School_ID                               325497 non-null  object  \n",
      " 3   Gender                                  325497 non-null  object  \n",
      " 4   Truancy_Skip_whole_school_day           325497 non-null  object  \n",
      " 5   Truancy_Skip_classes_within_school_day  325497 non-null  int32   \n",
      " 6   At_Home_Mother                          325497 non-null  bool    \n",
      " 7   At_Home_Father                          325497 non-null  bool    \n",
      " 8   At_Home_Brothers                        325497 non-null  bool    \n",
      " 9   At_Home_Sisters                         325497 non-null  bool    \n",
      " 10  Cultural_Possessions                    325497 non-null  float64 \n",
      " 11  Educational_level_of_father_ISCED       325497 non-null  category\n",
      " 12  Home_educational_resources              325497 non-null  float64 \n",
      " 13  Home_Possessions                        325497 non-null  float64 \n",
      " 14  Educational_level_of_mother_ISCED       325497 non-null  category\n",
      " 15  Wealth                                  325497 non-null  float64 \n",
      " 16  Plausible_value_mathematics             325497 non-null  float64 \n",
      " 17  Plausible_value_reading                 325497 non-null  float64 \n",
      " 18  Plausible_value_science                 325497 non-null  float64 \n",
      "dtypes: bool(5), category(2), float64(7), int32(1), object(4)\n",
      "memory usage: 33.2+ MB\n"
     ]
    }
   ],
   "source": [
    "# Check for datatypes\n",
    "df.info()"
   ]
  },
  {
   "cell_type": "markdown",
   "metadata": {},
   "source": [
    "<a id='store'></a>\n",
    "### Store Data"
   ]
  },
  {
   "cell_type": "code",
   "execution_count": 34,
   "metadata": {},
   "outputs": [],
   "source": [
    "# Export final dataframe\n",
    "df.to_csv(\"Data/clean_PISA_df.csv\", index=False)"
   ]
  },
  {
   "cell_type": "markdown",
   "metadata": {},
   "source": [
    "<a id='features'></a>\n",
    "### What is the structure of your dataset?\n",
    "\n",
    "> Your answer here!\n",
    "\n",
    "### What is/are the main feature(s) of interest in your dataset?\n",
    "\n",
    "> Your answer here!\n",
    "\n",
    "### What features in the dataset do you think will help support your investigation into your feature(s) of interest?\n",
    "\n",
    "> Your answer here!"
   ]
  },
  {
   "cell_type": "markdown",
   "metadata": {},
   "source": [
    "<a id='univariate'></a>\n",
    "## Univariate Exploration\n",
    "\n",
    "> In this section, investigate distributions of individual variables. If\n",
    "you see unusual points or outliers, take a deeper look to clean things up\n",
    "and prepare yourself to look at relationships between variables."
   ]
  },
  {
   "cell_type": "code",
   "execution_count": null,
   "metadata": {},
   "outputs": [],
   "source": []
  },
  {
   "cell_type": "markdown",
   "metadata": {},
   "source": [
    "> Make sure that, after every plot or related series of plots, that you\n",
    "include a Markdown cell with comments about what you observed, and what\n",
    "you plan on investigating next."
   ]
  },
  {
   "cell_type": "code",
   "execution_count": null,
   "metadata": {},
   "outputs": [],
   "source": []
  },
  {
   "cell_type": "markdown",
   "metadata": {},
   "source": [
    "### Discuss the distribution(s) of your variable(s) of interest. Were there any unusual points? Did you need to perform any transformations?\n",
    "\n",
    "> Your answer here!\n",
    "\n",
    "### Of the features you investigated, were there any unusual distributions? Did you perform any operations on the data to tidy, adjust, or change the form of the data? If so, why did you do this?\n",
    "\n",
    "> Your answer here!"
   ]
  },
  {
   "cell_type": "markdown",
   "metadata": {},
   "source": [
    "<a id='bivariate'></a>\n",
    "## Bivariate Exploration\n",
    "\n",
    "> In this section, investigate relationships between pairs of variables in your\n",
    "data. Make sure the variables that you cover here have been introduced in some\n",
    "fashion in the previous section (univariate exploration)."
   ]
  },
  {
   "cell_type": "code",
   "execution_count": null,
   "metadata": {},
   "outputs": [],
   "source": []
  },
  {
   "cell_type": "markdown",
   "metadata": {},
   "source": [
    "### Talk about some of the relationships you observed in this part of the investigation. How did the feature(s) of interest vary with other features in the dataset?\n",
    "\n",
    "> Your answer here!\n",
    "\n",
    "### Did you observe any interesting relationships between the other features (not the main feature(s) of interest)?\n",
    "\n",
    "> Your answer here!"
   ]
  },
  {
   "cell_type": "markdown",
   "metadata": {},
   "source": [
    "<a id='multivariate'></a>\n",
    "## Multivariate Exploration\n",
    "\n",
    "> Create plots of three or more variables to investigate your data even\n",
    "further. Make sure that your investigations are justified, and follow from\n",
    "your work in the previous sections."
   ]
  },
  {
   "cell_type": "code",
   "execution_count": null,
   "metadata": {},
   "outputs": [],
   "source": []
  },
  {
   "cell_type": "markdown",
   "metadata": {},
   "source": [
    "### Talk about some of the relationships you observed in this part of the investigation. Were there features that strengthened each other in terms of looking at your feature(s) of interest?\n",
    "\n",
    "> Your answer here!\n",
    "\n",
    "### Were there any interesting or surprising interactions between features?\n",
    "\n",
    "> Your answer here!"
   ]
  },
  {
   "cell_type": "markdown",
   "metadata": {},
   "source": [
    "> At the end of your report, make sure that you export the notebook as an\n",
    "html file from the `File > Download as... > HTML` menu. Make sure you keep\n",
    "track of where the exported file goes, so you can put it in the same folder\n",
    "as this notebook for project submission. Also, make sure you remove all of\n",
    "the quote-formatted guide notes like this one before you finish your report!"
   ]
  },
  {
   "cell_type": "markdown",
   "metadata": {},
   "source": [
    "<a id='conclusion'></a>\n",
    "## Conclusion"
   ]
  }
 ],
 "metadata": {
  "kernelspec": {
   "display_name": "pythonml",
   "language": "python",
   "name": "pythonml"
  },
  "language_info": {
   "codemirror_mode": {
    "name": "ipython",
    "version": 3
   },
   "file_extension": ".py",
   "mimetype": "text/x-python",
   "name": "python",
   "nbconvert_exporter": "python",
   "pygments_lexer": "ipython3",
   "version": "3.7.9"
  }
 },
 "nbformat": 4,
 "nbformat_minor": 2
}
